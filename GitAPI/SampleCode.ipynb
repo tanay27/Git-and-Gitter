{
 "cells": [
  {
   "cell_type": "code",
   "execution_count": 3,
   "metadata": {},
   "outputs": [],
   "source": [
    "from gql import gql, Client"
   ]
  },
  {
   "cell_type": "code",
   "execution_count": 4,
   "metadata": {},
   "outputs": [
    {
     "ename": "NameError",
     "evalue": "name 'schema' is not defined",
     "output_type": "error",
     "traceback": [
      "\u001b[1;31m---------------------------------------------------------------------------\u001b[0m",
      "\u001b[1;31mNameError\u001b[0m                                 Traceback (most recent call last)",
      "\u001b[1;32m<ipython-input-4-5140b3aebcc5>\u001b[0m in \u001b[0;36m<module>\u001b[1;34m()\u001b[0m\n\u001b[1;32m----> 1\u001b[1;33m \u001b[0mclient\u001b[0m \u001b[1;33m=\u001b[0m \u001b[0mClient\u001b[0m\u001b[1;33m(\u001b[0m\u001b[0mschema\u001b[0m\u001b[1;33m=\u001b[0m\u001b[0mschema\u001b[0m\u001b[1;33m)\u001b[0m\u001b[1;33m\u001b[0m\u001b[0m\n\u001b[0m\u001b[0;32m      2\u001b[0m query = gql('''\n\u001b[0;32m      3\u001b[0m {\n\u001b[0;32m      4\u001b[0m   \u001b[0mhello\u001b[0m\u001b[1;33m\u001b[0m\u001b[0m\n\u001b[0;32m      5\u001b[0m }\n",
      "\u001b[1;31mNameError\u001b[0m: name 'schema' is not defined"
     ]
    }
   ],
   "source": [
    "client = Client(schema=schema)\n",
    "query = gql('''\n",
    "{\n",
    "  hello\n",
    "}\n",
    "''')\n",
    "\n",
    "client.execute(query)"
   ]
  },
  {
   "cell_type": "code",
   "execution_count": 6,
   "metadata": {},
   "outputs": [],
   "source": [
    "import urllib"
   ]
  },
  {
   "cell_type": "code",
   "execution_count": 15,
   "metadata": {},
   "outputs": [],
   "source": [
    "url='https://api.github.com/'"
   ]
  },
  {
   "cell_type": "code",
   "execution_count": 16,
   "metadata": {},
   "outputs": [],
   "source": [
    "param={\"access_token\":\"2832f17b43fc92adff4b6c34ca60dab81fb1ac2b\"}"
   ]
  },
  {
   "cell_type": "code",
   "execution_count": 17,
   "metadata": {},
   "outputs": [
    {
     "data": {
      "text/plain": [
       "['__builtins__',\n",
       " '__cached__',\n",
       " '__doc__',\n",
       " '__file__',\n",
       " '__loader__',\n",
       " '__name__',\n",
       " '__package__',\n",
       " '__path__',\n",
       " '__spec__',\n",
       " 'error',\n",
       " 'parse',\n",
       " 'request',\n",
       " 'response']"
      ]
     },
     "execution_count": 17,
     "metadata": {},
     "output_type": "execute_result"
    }
   ],
   "source": [
    "dir(urllib)"
   ]
  },
  {
   "cell_type": "code",
   "execution_count": 18,
   "metadata": {},
   "outputs": [
    {
     "data": {
      "text/plain": [
       "['AbstractBasicAuthHandler',\n",
       " 'AbstractDigestAuthHandler',\n",
       " 'AbstractHTTPHandler',\n",
       " 'BaseHandler',\n",
       " 'CacheFTPHandler',\n",
       " 'ContentTooShortError',\n",
       " 'DataHandler',\n",
       " 'FTPHandler',\n",
       " 'FancyURLopener',\n",
       " 'FileHandler',\n",
       " 'HTTPBasicAuthHandler',\n",
       " 'HTTPCookieProcessor',\n",
       " 'HTTPDefaultErrorHandler',\n",
       " 'HTTPDigestAuthHandler',\n",
       " 'HTTPError',\n",
       " 'HTTPErrorProcessor',\n",
       " 'HTTPHandler',\n",
       " 'HTTPPasswordMgr',\n",
       " 'HTTPPasswordMgrWithDefaultRealm',\n",
       " 'HTTPPasswordMgrWithPriorAuth',\n",
       " 'HTTPRedirectHandler',\n",
       " 'HTTPSHandler',\n",
       " 'MAXFTPCACHE',\n",
       " 'OpenerDirector',\n",
       " 'ProxyBasicAuthHandler',\n",
       " 'ProxyDigestAuthHandler',\n",
       " 'ProxyHandler',\n",
       " 'Request',\n",
       " 'URLError',\n",
       " 'URLopener',\n",
       " 'UnknownHandler',\n",
       " '__all__',\n",
       " '__builtins__',\n",
       " '__cached__',\n",
       " '__doc__',\n",
       " '__file__',\n",
       " '__loader__',\n",
       " '__name__',\n",
       " '__package__',\n",
       " '__spec__',\n",
       " '__version__',\n",
       " '_cut_port_re',\n",
       " '_ftperrors',\n",
       " '_have_ssl',\n",
       " '_localhost',\n",
       " '_noheaders',\n",
       " '_opener',\n",
       " '_parse_proxy',\n",
       " '_proxy_bypass_macosx_sysconf',\n",
       " '_randombytes',\n",
       " '_safe_gethostbyname',\n",
       " '_thishost',\n",
       " '_url_tempfiles',\n",
       " 'addclosehook',\n",
       " 'addinfourl',\n",
       " 'base64',\n",
       " 'bisect',\n",
       " 'build_opener',\n",
       " 'collections',\n",
       " 'contextlib',\n",
       " 'email',\n",
       " 'ftpcache',\n",
       " 'ftperrors',\n",
       " 'ftpwrapper',\n",
       " 'getproxies',\n",
       " 'getproxies_environment',\n",
       " 'getproxies_registry',\n",
       " 'hashlib',\n",
       " 'http',\n",
       " 'install_opener',\n",
       " 'io',\n",
       " 'localhost',\n",
       " 'noheaders',\n",
       " 'os',\n",
       " 'parse_http_list',\n",
       " 'parse_keqv_list',\n",
       " 'pathname2url',\n",
       " 'posixpath',\n",
       " 'proxy_bypass',\n",
       " 'proxy_bypass_environment',\n",
       " 'proxy_bypass_registry',\n",
       " 'quote',\n",
       " 're',\n",
       " 'request_host',\n",
       " 'socket',\n",
       " 'splitattr',\n",
       " 'splithost',\n",
       " 'splitpasswd',\n",
       " 'splitport',\n",
       " 'splitquery',\n",
       " 'splittag',\n",
       " 'splittype',\n",
       " 'splituser',\n",
       " 'splitvalue',\n",
       " 'ssl',\n",
       " 'string',\n",
       " 'sys',\n",
       " 'tempfile',\n",
       " 'thishost',\n",
       " 'time',\n",
       " 'to_bytes',\n",
       " 'unquote',\n",
       " 'unquote_to_bytes',\n",
       " 'unwrap',\n",
       " 'url2pathname',\n",
       " 'urlcleanup',\n",
       " 'urljoin',\n",
       " 'urlopen',\n",
       " 'urlparse',\n",
       " 'urlretrieve',\n",
       " 'urlsplit',\n",
       " 'urlunparse',\n",
       " 'warnings']"
      ]
     },
     "execution_count": 18,
     "metadata": {},
     "output_type": "execute_result"
    }
   ],
   "source": [
    "dir(urllib.request)"
   ]
  },
  {
   "cell_type": "code",
   "execution_count": 29,
   "metadata": {},
   "outputs": [],
   "source": [
    "import requests\n",
    "res = requests.get('https://api.github.com/')"
   ]
  },
  {
   "cell_type": "code",
   "execution_count": 30,
   "metadata": {},
   "outputs": [
    {
     "data": {
      "text/plain": [
       "{'authorizations_url': 'https://api.github.com/authorizations',\n",
       " 'code_search_url': 'https://api.github.com/search/code?q={query}{&page,per_page,sort,order}',\n",
       " 'commit_search_url': 'https://api.github.com/search/commits?q={query}{&page,per_page,sort,order}',\n",
       " 'current_user_authorizations_html_url': 'https://github.com/settings/connections/applications{/client_id}',\n",
       " 'current_user_repositories_url': 'https://api.github.com/user/repos{?type,page,per_page,sort}',\n",
       " 'current_user_url': 'https://api.github.com/user',\n",
       " 'emails_url': 'https://api.github.com/user/emails',\n",
       " 'emojis_url': 'https://api.github.com/emojis',\n",
       " 'events_url': 'https://api.github.com/events',\n",
       " 'feeds_url': 'https://api.github.com/feeds',\n",
       " 'followers_url': 'https://api.github.com/user/followers',\n",
       " 'following_url': 'https://api.github.com/user/following{/target}',\n",
       " 'gists_url': 'https://api.github.com/gists{/gist_id}',\n",
       " 'hub_url': 'https://api.github.com/hub',\n",
       " 'issue_search_url': 'https://api.github.com/search/issues?q={query}{&page,per_page,sort,order}',\n",
       " 'issues_url': 'https://api.github.com/issues',\n",
       " 'keys_url': 'https://api.github.com/user/keys',\n",
       " 'notifications_url': 'https://api.github.com/notifications',\n",
       " 'organization_repositories_url': 'https://api.github.com/orgs/{org}/repos{?type,page,per_page,sort}',\n",
       " 'organization_url': 'https://api.github.com/orgs/{org}',\n",
       " 'public_gists_url': 'https://api.github.com/gists/public',\n",
       " 'rate_limit_url': 'https://api.github.com/rate_limit',\n",
       " 'repository_search_url': 'https://api.github.com/search/repositories?q={query}{&page,per_page,sort,order}',\n",
       " 'repository_url': 'https://api.github.com/repos/{owner}/{repo}',\n",
       " 'starred_gists_url': 'https://api.github.com/gists/starred',\n",
       " 'starred_url': 'https://api.github.com/user/starred{/owner}{/repo}',\n",
       " 'team_url': 'https://api.github.com/teams',\n",
       " 'user_organizations_url': 'https://api.github.com/user/orgs',\n",
       " 'user_repositories_url': 'https://api.github.com/users/{user}/repos{?type,page,per_page,sort}',\n",
       " 'user_search_url': 'https://api.github.com/search/users?q={query}{&page,per_page,sort,order}',\n",
       " 'user_url': 'https://api.github.com/users/{user}'}"
      ]
     },
     "execution_count": 30,
     "metadata": {},
     "output_type": "execute_result"
    }
   ],
   "source": [
    "res.json()"
   ]
  },
  {
   "cell_type": "code",
   "execution_count": 31,
   "metadata": {},
   "outputs": [],
   "source": [
    "res = requests.get('https://api.github.com/repos/tensorflow/tensorflow')"
   ]
  },
  {
   "cell_type": "code",
   "execution_count": 34,
   "metadata": {},
   "outputs": [
    {
     "data": {
      "text/plain": [
       "{'archive_url': 'https://api.github.com/repos/tensorflow/tensorflow/{archive_format}{/ref}',\n",
       " 'archived': False,\n",
       " 'assignees_url': 'https://api.github.com/repos/tensorflow/tensorflow/assignees{/user}',\n",
       " 'blobs_url': 'https://api.github.com/repos/tensorflow/tensorflow/git/blobs{/sha}',\n",
       " 'branches_url': 'https://api.github.com/repos/tensorflow/tensorflow/branches{/branch}',\n",
       " 'clone_url': 'https://github.com/tensorflow/tensorflow.git',\n",
       " 'collaborators_url': 'https://api.github.com/repos/tensorflow/tensorflow/collaborators{/collaborator}',\n",
       " 'comments_url': 'https://api.github.com/repos/tensorflow/tensorflow/comments{/number}',\n",
       " 'commits_url': 'https://api.github.com/repos/tensorflow/tensorflow/commits{/sha}',\n",
       " 'compare_url': 'https://api.github.com/repos/tensorflow/tensorflow/compare/{base}...{head}',\n",
       " 'contents_url': 'https://api.github.com/repos/tensorflow/tensorflow/contents/{+path}',\n",
       " 'contributors_url': 'https://api.github.com/repos/tensorflow/tensorflow/contributors',\n",
       " 'created_at': '2015-11-07T01:19:20Z',\n",
       " 'default_branch': 'master',\n",
       " 'deployments_url': 'https://api.github.com/repos/tensorflow/tensorflow/deployments',\n",
       " 'description': 'Computation using data flow graphs for scalable machine learning',\n",
       " 'downloads_url': 'https://api.github.com/repos/tensorflow/tensorflow/downloads',\n",
       " 'events_url': 'https://api.github.com/repos/tensorflow/tensorflow/events',\n",
       " 'fork': False,\n",
       " 'forks': 61339,\n",
       " 'forks_count': 61339,\n",
       " 'forks_url': 'https://api.github.com/repos/tensorflow/tensorflow/forks',\n",
       " 'full_name': 'tensorflow/tensorflow',\n",
       " 'git_commits_url': 'https://api.github.com/repos/tensorflow/tensorflow/git/commits{/sha}',\n",
       " 'git_refs_url': 'https://api.github.com/repos/tensorflow/tensorflow/git/refs{/sha}',\n",
       " 'git_tags_url': 'https://api.github.com/repos/tensorflow/tensorflow/git/tags{/sha}',\n",
       " 'git_url': 'git://github.com/tensorflow/tensorflow.git',\n",
       " 'has_downloads': True,\n",
       " 'has_issues': True,\n",
       " 'has_pages': False,\n",
       " 'has_projects': True,\n",
       " 'has_wiki': False,\n",
       " 'homepage': 'https://tensorflow.org',\n",
       " 'hooks_url': 'https://api.github.com/repos/tensorflow/tensorflow/hooks',\n",
       " 'html_url': 'https://github.com/tensorflow/tensorflow',\n",
       " 'id': 45717250,\n",
       " 'issue_comment_url': 'https://api.github.com/repos/tensorflow/tensorflow/issues/comments{/number}',\n",
       " 'issue_events_url': 'https://api.github.com/repos/tensorflow/tensorflow/issues/events{/number}',\n",
       " 'issues_url': 'https://api.github.com/repos/tensorflow/tensorflow/issues{/number}',\n",
       " 'keys_url': 'https://api.github.com/repos/tensorflow/tensorflow/keys{/key_id}',\n",
       " 'labels_url': 'https://api.github.com/repos/tensorflow/tensorflow/labels{/name}',\n",
       " 'language': 'C++',\n",
       " 'languages_url': 'https://api.github.com/repos/tensorflow/tensorflow/languages',\n",
       " 'license': {'key': 'apache-2.0',\n",
       "  'name': 'Apache License 2.0',\n",
       "  'spdx_id': 'Apache-2.0',\n",
       "  'url': 'https://api.github.com/licenses/apache-2.0'},\n",
       " 'merges_url': 'https://api.github.com/repos/tensorflow/tensorflow/merges',\n",
       " 'milestones_url': 'https://api.github.com/repos/tensorflow/tensorflow/milestones{/number}',\n",
       " 'mirror_url': None,\n",
       " 'name': 'tensorflow',\n",
       " 'network_count': 61339,\n",
       " 'notifications_url': 'https://api.github.com/repos/tensorflow/tensorflow/notifications{?since,all,participating}',\n",
       " 'open_issues': 1524,\n",
       " 'open_issues_count': 1524,\n",
       " 'organization': {'avatar_url': 'https://avatars1.githubusercontent.com/u/15658638?v=4',\n",
       "  'events_url': 'https://api.github.com/users/tensorflow/events{/privacy}',\n",
       "  'followers_url': 'https://api.github.com/users/tensorflow/followers',\n",
       "  'following_url': 'https://api.github.com/users/tensorflow/following{/other_user}',\n",
       "  'gists_url': 'https://api.github.com/users/tensorflow/gists{/gist_id}',\n",
       "  'gravatar_id': '',\n",
       "  'html_url': 'https://github.com/tensorflow',\n",
       "  'id': 15658638,\n",
       "  'login': 'tensorflow',\n",
       "  'organizations_url': 'https://api.github.com/users/tensorflow/orgs',\n",
       "  'received_events_url': 'https://api.github.com/users/tensorflow/received_events',\n",
       "  'repos_url': 'https://api.github.com/users/tensorflow/repos',\n",
       "  'site_admin': False,\n",
       "  'starred_url': 'https://api.github.com/users/tensorflow/starred{/owner}{/repo}',\n",
       "  'subscriptions_url': 'https://api.github.com/users/tensorflow/subscriptions',\n",
       "  'type': 'Organization',\n",
       "  'url': 'https://api.github.com/users/tensorflow'},\n",
       " 'owner': {'avatar_url': 'https://avatars1.githubusercontent.com/u/15658638?v=4',\n",
       "  'events_url': 'https://api.github.com/users/tensorflow/events{/privacy}',\n",
       "  'followers_url': 'https://api.github.com/users/tensorflow/followers',\n",
       "  'following_url': 'https://api.github.com/users/tensorflow/following{/other_user}',\n",
       "  'gists_url': 'https://api.github.com/users/tensorflow/gists{/gist_id}',\n",
       "  'gravatar_id': '',\n",
       "  'html_url': 'https://github.com/tensorflow',\n",
       "  'id': 15658638,\n",
       "  'login': 'tensorflow',\n",
       "  'organizations_url': 'https://api.github.com/users/tensorflow/orgs',\n",
       "  'received_events_url': 'https://api.github.com/users/tensorflow/received_events',\n",
       "  'repos_url': 'https://api.github.com/users/tensorflow/repos',\n",
       "  'site_admin': False,\n",
       "  'starred_url': 'https://api.github.com/users/tensorflow/starred{/owner}{/repo}',\n",
       "  'subscriptions_url': 'https://api.github.com/users/tensorflow/subscriptions',\n",
       "  'type': 'Organization',\n",
       "  'url': 'https://api.github.com/users/tensorflow'},\n",
       " 'permissions': {'admin': False, 'pull': True, 'push': False},\n",
       " 'private': False,\n",
       " 'pulls_url': 'https://api.github.com/repos/tensorflow/tensorflow/pulls{/number}',\n",
       " 'pushed_at': '2018-04-15T20:23:48Z',\n",
       " 'releases_url': 'https://api.github.com/repos/tensorflow/tensorflow/releases{/id}',\n",
       " 'size': 161010,\n",
       " 'ssh_url': 'git@github.com:tensorflow/tensorflow.git',\n",
       " 'stargazers_count': 96370,\n",
       " 'stargazers_url': 'https://api.github.com/repos/tensorflow/tensorflow/stargazers',\n",
       " 'statuses_url': 'https://api.github.com/repos/tensorflow/tensorflow/statuses/{sha}',\n",
       " 'subscribers_count': 7772,\n",
       " 'subscribers_url': 'https://api.github.com/repos/tensorflow/tensorflow/subscribers',\n",
       " 'subscription_url': 'https://api.github.com/repos/tensorflow/tensorflow/subscription',\n",
       " 'svn_url': 'https://github.com/tensorflow/tensorflow',\n",
       " 'tags_url': 'https://api.github.com/repos/tensorflow/tensorflow/tags',\n",
       " 'teams_url': 'https://api.github.com/repos/tensorflow/tensorflow/teams',\n",
       " 'trees_url': 'https://api.github.com/repos/tensorflow/tensorflow/git/trees{/sha}',\n",
       " 'updated_at': '2018-04-15T21:51:56Z',\n",
       " 'url': 'https://api.github.com/repos/tensorflow/tensorflow',\n",
       " 'watchers': 96370,\n",
       " 'watchers_count': 96370}"
      ]
     },
     "execution_count": 34,
     "metadata": {},
     "output_type": "execute_result"
    }
   ],
   "source": [
    "res.json()"
   ]
  },
  {
   "cell_type": "code",
   "execution_count": 68,
   "metadata": {},
   "outputs": [],
   "source": [
    "#'https://api.github.com/repos/tensorflow/tensorflow/contributors'\n",
    "res = requests.get('https://api.github.com/repos/tensorflow/tensorflow/contributors?anon=1&page=46')\n"
   ]
  },
  {
   "cell_type": "code",
   "execution_count": 69,
   "metadata": {},
   "outputs": [
    {
     "data": {
      "text/plain": [
       "30"
      ]
     },
     "execution_count": 69,
     "metadata": {},
     "output_type": "execute_result"
    }
   ],
   "source": [
    "len(res.json())"
   ]
  },
  {
   "cell_type": "code",
   "execution_count": 70,
   "metadata": {},
   "outputs": [
    {
     "data": {
      "text/plain": [
       "[{'contributions': 1,\n",
       "  'email': 'tapanprakasht@gmail.com',\n",
       "  'name': 'Tapan Prakash',\n",
       "  'type': 'Anonymous'},\n",
       " {'contributions': 1,\n",
       "  'email': 'tchugh@users.noreply.github.com',\n",
       "  'name': 'Tarang Chugh',\n",
       "  'type': 'Anonymous'},\n",
       " {'contributions': 1,\n",
       "  'email': 'tfturing@gmail.com',\n",
       "  'name': 'Ted Fujimoto',\n",
       "  'type': 'Anonymous'},\n",
       " {'contributions': 1,\n",
       "  'email': 'yingted@gmail.com',\n",
       "  'name': 'Ted Ying',\n",
       "  'type': 'Anonymous'},\n",
       " {'contributions': 1,\n",
       "  'email': 'nikita.huston@yandex.ru',\n",
       "  'name': 'TheUSER123',\n",
       "  'type': 'Anonymous'},\n",
       " {'contributions': 1,\n",
       "  'email': 'tweek@google.com',\n",
       "  'name': 'Thiébaud Weksteen',\n",
       "  'type': 'Anonymous'},\n",
       " {'contributions': 1,\n",
       "  'email': 'thom@codehawks.eu',\n",
       "  'name': 'Thomas Bastiani',\n",
       "  'type': 'Anonymous'},\n",
       " {'contributions': 1,\n",
       "  'email': 'phomes@gmail.com',\n",
       "  'name': 'Thomas H. P. Andersen',\n",
       "  'type': 'Anonymous'},\n",
       " {'contributions': 1,\n",
       "  'email': 'thomaslee969@users.noreply.github.com',\n",
       "  'name': 'Thomas Lee',\n",
       "  'type': 'Anonymous'},\n",
       " {'contributions': 1,\n",
       "  'email': 'thomas.oldervoll@zenior.no',\n",
       "  'name': 'Thomas Oldervoll',\n",
       "  'type': 'Anonymous'},\n",
       " {'contributions': 1,\n",
       "  'email': 'tizhou1986@gmail.com',\n",
       "  'name': 'Ti Zhou',\n",
       "  'type': 'Anonymous'},\n",
       " {'contributions': 1,\n",
       "  'email': 'tiagofrepereira@gmail.com',\n",
       "  'name': 'Tiago Freitas Pereira',\n",
       "  'type': 'Anonymous'},\n",
       " {'contributions': 1,\n",
       "  'email': 'tiago.nuno.jorge@gmail.com',\n",
       "  'name': 'Tiago Jorge',\n",
       "  'type': 'Anonymous'},\n",
       " {'contributions': 1,\n",
       "  'email': 'eremitatm88@gmail.com',\n",
       "  'name': 'Tiago Morais Morgado',\n",
       "  'type': 'Anonymous'},\n",
       " {'contributions': 1,\n",
       "  'email': 'timen@users.noreply.github.com',\n",
       "  'name': 'Tijmen Verhulsdonck',\n",
       "  'type': 'Anonymous'},\n",
       " {'contributions': 1,\n",
       "  'email': 'tdhutt@gmail.com',\n",
       "  'name': 'Tim',\n",
       "  'type': 'Anonymous'},\n",
       " {'contributions': 1,\n",
       "  'email': 'timanglade@gmail.com',\n",
       "  'name': 'Tim Anglade',\n",
       "  'type': 'Anonymous'},\n",
       " {'contributions': 1,\n",
       "  'email': 'tkondrashov@gmail.com',\n",
       "  'name': 'Timofey Kondrashov',\n",
       "  'type': 'Anonymous'},\n",
       " {'contributions': 1,\n",
       "  'email': 'timothyjlaurent@gmail.com',\n",
       "  'name': 'Timothy J Laurent',\n",
       "  'type': 'Anonymous'},\n",
       " {'contributions': 1,\n",
       "  'email': 'tobypetty1@gmail.com',\n",
       "  'name': 'Toby Petty',\n",
       "  'type': 'Anonymous'},\n",
       " {'contributions': 1,\n",
       "  'email': 'todjiang@gmail.com',\n",
       "  'name': 'Tod',\n",
       "  'type': 'Anonymous'},\n",
       " {'contributions': 1,\n",
       "  'email': 'tomasreimers@gmail.com',\n",
       "  'name': 'Tomas Reimers',\n",
       "  'type': 'Anonymous'},\n",
       " {'contributions': 1,\n",
       "  'email': 'laket72@gmail.com',\n",
       "  'name': 'Tomoaki Oiki',\n",
       "  'type': 'Anonymous'},\n",
       " {'contributions': 1,\n",
       "  'email': 'tkunic@rocketmail.com',\n",
       "  'name': 'Toni Kunic',\n",
       "  'type': 'Anonymous'},\n",
       " {'contributions': 1,\n",
       "  'email': 'toon.verstraelen@ugent.be',\n",
       "  'name': 'Toon Verstraelen',\n",
       "  'type': 'Anonymous'},\n",
       " {'contributions': 1,\n",
       "  'email': 'rice@fn.lc',\n",
       "  'name': 'Tristan Rice',\n",
       "  'type': 'Anonymous'},\n",
       " {'contributions': 1,\n",
       "  'email': 'tusharsoni08@users.noreply.github.com',\n",
       "  'name': 'Tushar Soni',\n",
       "  'type': 'Anonymous'},\n",
       " {'contributions': 1,\n",
       "  'email': 'umang.mehta@affectiva.com',\n",
       "  'name': 'Umang Mehta',\n",
       "  'type': 'Anonymous'},\n",
       " {'contributions': 1,\n",
       "  'email': 'undo1@users.noreply.github.com',\n",
       "  'name': 'Undo1',\n",
       "  'type': 'Anonymous'},\n",
       " {'contributions': 1,\n",
       "  'email': 'ursk@users.noreply.github.com',\n",
       "  'name': 'Urs Köster',\n",
       "  'type': 'Anonymous'}]"
      ]
     },
     "execution_count": 70,
     "metadata": {},
     "output_type": "execute_result"
    }
   ],
   "source": [
    "res.json()"
   ]
  },
  {
   "cell_type": "code",
   "execution_count": null,
   "metadata": {},
   "outputs": [],
   "source": []
  }
 ],
 "metadata": {
  "kernelspec": {
   "display_name": "Python 3",
   "language": "python",
   "name": "python3"
  },
  "language_info": {
   "codemirror_mode": {
    "name": "ipython",
    "version": 3
   },
   "file_extension": ".py",
   "mimetype": "text/x-python",
   "name": "python",
   "nbconvert_exporter": "python",
   "pygments_lexer": "ipython3",
   "version": "3.6.4"
  }
 },
 "nbformat": 4,
 "nbformat_minor": 2
}
