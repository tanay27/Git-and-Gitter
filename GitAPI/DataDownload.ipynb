{
 "cells": [
  {
   "cell_type": "code",
   "execution_count": 6,
   "metadata": {},
   "outputs": [],
   "source": [
    "import urllib\n",
    "import requests\n",
    "import pandas as pd"
   ]
  },
  {
   "cell_type": "code",
   "execution_count": 2,
   "metadata": {},
   "outputs": [],
   "source": [
    "url='https://api.github.com/'"
   ]
  },
  {
   "cell_type": "code",
   "execution_count": 3,
   "metadata": {},
   "outputs": [],
   "source": [
    "param={\"access_token\":\"2832f17b43fc92adff4b6c34ca60dab81fb1ac2b\"}"
   ]
  },
  {
   "cell_type": "code",
   "execution_count": 8,
   "metadata": {},
   "outputs": [],
   "source": [
    "res = requests.get('https://api.github.com/')"
   ]
  },
  {
   "cell_type": "code",
   "execution_count": 446,
   "metadata": {},
   "outputs": [],
   "source": [
    "#res.json()"
   ]
  },
  {
   "cell_type": "code",
   "execution_count": 169,
   "metadata": {},
   "outputs": [],
   "source": [
    "#'https://api.github.com/repos/tensorflow/tensorflow/contributors'\n",
    "res = requests.get('https://api.github.com/repos/tensorflow/tensorflow/contributors?anon=1&page=45')\n"
   ]
  },
  {
   "cell_type": "code",
   "execution_count": 180,
   "metadata": {},
   "outputs": [],
   "source": [
    "# Getting contributors\n",
    "\n",
    "def get_contributors_github(orgname, repo):\n",
    "    final = pd.DataFrame()\n",
    "    for num in range(1,101):\n",
    "        res = requests.get('https://api.github.com/repos/'+orgname+'/'+repo+'/contributors?anon=1&page='+str(num)).content\n",
    "        if (len(pd.read_json(res)) > 0):\n",
    "            dummy_df = pd.read_json(res)\n",
    "            if (len(final)==0):\n",
    "                final = dummy_df\n",
    "            else:\n",
    "                final = final.append(dummy_df)    \n",
    "        else:\n",
    "            print('done ok :)!!')\n",
    "            break\n",
    "    return final\n",
    "            \n",
    "        \n",
    "        "
   ]
  },
  {
   "cell_type": "code",
   "execution_count": 207,
   "metadata": {},
   "outputs": [
    {
     "name": "stdout",
     "output_type": "stream",
     "text": [
      "done ok :)!!\n"
     ]
    }
   ],
   "source": [
    "data_keras = get_content_github(orgname='keras-team', repo = 'keras')"
   ]
  },
  {
   "cell_type": "code",
   "execution_count": 172,
   "metadata": {},
   "outputs": [
    {
     "data": {
      "text/plain": [
       "1617"
      ]
     },
     "execution_count": 172,
     "metadata": {},
     "output_type": "execute_result"
    }
   ],
   "source": [
    "len(data)"
   ]
  },
  {
   "cell_type": "code",
   "execution_count": 177,
   "metadata": {},
   "outputs": [],
   "source": [
    "data= data.reset_index(drop=True)"
   ]
  },
  {
   "cell_type": "code",
   "execution_count": 179,
   "metadata": {},
   "outputs": [],
   "source": [
    "data.to_json('tensorflow.json')"
   ]
  },
  {
   "cell_type": "code",
   "execution_count": 237,
   "metadata": {},
   "outputs": [],
   "source": [
    "#data.sort_values(by='login')"
   ]
  },
  {
   "cell_type": "code",
   "execution_count": 238,
   "metadata": {},
   "outputs": [
    {
     "data": {
      "text/plain": [
       "\"import matplotlib.pyplot as plt\\nplt.figure(figsize=(20,14))\\ndata[data['contributions']<1000].contributions.hist(bins=range(0,1000,20))\\nplt.show()\""
      ]
     },
     "execution_count": 238,
     "metadata": {},
     "output_type": "execute_result"
    }
   ],
   "source": [
    "'''import matplotlib.pyplot as plt\n",
    "plt.figure(figsize=(20,14))\n",
    "data[data['contributions']<1000].contributions.hist(bins=range(0,1000,20))\n",
    "plt.show()'''"
   ]
  },
  {
   "cell_type": "code",
   "execution_count": 190,
   "metadata": {},
   "outputs": [
    {
     "data": {
      "text/plain": [
       "9128"
      ]
     },
     "execution_count": 190,
     "metadata": {},
     "output_type": "execute_result"
    }
   ],
   "source": [
    "max(data['contributions'])"
   ]
  },
  {
   "cell_type": "code",
   "execution_count": 241,
   "metadata": {},
   "outputs": [
    {
     "data": {
      "text/plain": [
       "(1617, 1245, 372)"
      ]
     },
     "execution_count": 241,
     "metadata": {},
     "output_type": "execute_result"
    }
   ],
   "source": [
    "#number of anonymous users for tensorflow\n",
    "len(data), len(data[data['type']=='Anonymous']), len(data)-1245"
   ]
  },
  {
   "cell_type": "code",
   "execution_count": 213,
   "metadata": {},
   "outputs": [],
   "source": [
    "data_keras = data_keras.reset_index(drop = True)"
   ]
  },
  {
   "cell_type": "code",
   "execution_count": 214,
   "metadata": {},
   "outputs": [],
   "source": [
    "data_keras.to_json('keras.json')"
   ]
  },
  {
   "cell_type": "code",
   "execution_count": 242,
   "metadata": {},
   "outputs": [
    {
     "data": {
      "text/plain": [
       "(691, 254, 437)"
      ]
     },
     "execution_count": 242,
     "metadata": {},
     "output_type": "execute_result"
    }
   ],
   "source": [
    "#number of anonymous user for keras\n",
    "len(data_keras), len(data_keras[data_keras.type=='Anonymous']), len(data_keras)-254"
   ]
  },
  {
   "cell_type": "code",
   "execution_count": 221,
   "metadata": {},
   "outputs": [
    {
     "name": "stdout",
     "output_type": "stream",
     "text": [
      "done ok :)!!\n"
     ]
    }
   ],
   "source": [
    "data_theano = get_contributors_github(orgname='Theano', repo='Theano')"
   ]
  },
  {
   "cell_type": "code",
   "execution_count": 222,
   "metadata": {},
   "outputs": [],
   "source": [
    "data_theano = data_theano.reset_index(drop=True)"
   ]
  },
  {
   "cell_type": "code",
   "execution_count": 243,
   "metadata": {},
   "outputs": [
    {
     "name": "stdout",
     "output_type": "stream",
     "text": [
      "Anonymous:  38 User:  329\n"
     ]
    },
    {
     "data": {
      "text/plain": [
       "(367, None)"
      ]
     },
     "execution_count": 243,
     "metadata": {},
     "output_type": "execute_result"
    }
   ],
   "source": [
    "#number of users in theano that are anonymous\n",
    "len(data_theano), print('Anonymous: ', len(data_theano[data_theano.type=='Anonymous']),'User: ',(len(data_theano)-len(data_theano[data_theano.type=='Anonymous'])))"
   ]
  },
  {
   "cell_type": "code",
   "execution_count": 224,
   "metadata": {},
   "outputs": [],
   "source": [
    "data_theano.to_json('theano.json')"
   ]
  },
  {
   "cell_type": "code",
   "execution_count": 225,
   "metadata": {},
   "outputs": [
    {
     "name": "stdout",
     "output_type": "stream",
     "text": [
      "done ok :)!!\n"
     ]
    }
   ],
   "source": [
    "data_caffe2 = get_contributors_github(orgname='caffe2', repo='caffe2')\n",
    "data_caffe2 = data_caffe2.reset_index(drop=True)\n",
    "data_caffe2.to_json('caffe2.json')"
   ]
  },
  {
   "cell_type": "code",
   "execution_count": 234,
   "metadata": {},
   "outputs": [
    {
     "name": "stdout",
     "output_type": "stream",
     "text": [
      "Anonymous: 145 User:  187\n"
     ]
    }
   ],
   "source": [
    "#number of users in caffe2 that are anonymous\n",
    "print('Anonymous:',len(data_caffe2[data_caffe2.type=='Anonymous']),'User: ',(len(data_caffe2)-len(data_caffe2[data_caffe2.type=='Anonymous'])))"
   ]
  },
  {
   "cell_type": "code",
   "execution_count": 246,
   "metadata": {},
   "outputs": [
    {
     "name": "stdout",
     "output_type": "stream",
     "text": [
      "done ok :)!!\n"
     ]
    },
    {
     "data": {
      "text/plain": [
       "(801, 469, 332)"
      ]
     },
     "execution_count": 246,
     "metadata": {},
     "output_type": "execute_result"
    }
   ],
   "source": [
    "data_pytorch = get_contributors_github(orgname='pytorch', repo='pytorch')\n",
    "data_pytorch = data_pytorch.reset_index(drop=True)\n",
    "data_pytorch.to_json('pytorch.json')\n",
    "len(data_pytorch), len(data_pytorch[data_pytorch.type=='Anonymous']), len(data_pytorch)-len(data_pytorch[data_pytorch.type=='Anonymous'])"
   ]
  },
  {
   "cell_type": "code",
   "execution_count": 244,
   "metadata": {},
   "outputs": [
    {
     "data": {
      "text/plain": [
       "332"
      ]
     },
     "execution_count": 244,
     "metadata": {},
     "output_type": "execute_result"
    }
   ],
   "source": [
    "len(data_caffe2)"
   ]
  },
  {
   "cell_type": "code",
   "execution_count": 262,
   "metadata": {},
   "outputs": [],
   "source": [
    "#data.columns\n",
    "pd.options.display.max_columns=999\n"
   ]
  },
  {
   "cell_type": "code",
   "execution_count": 257,
   "metadata": {},
   "outputs": [
    {
     "data": {
      "text/plain": [
       "Index(['avatar_url', 'contributions', 'email', 'events_url', 'followers_url',\n",
       "       'following_url', 'gists_url', 'gravatar_id', 'html_url', 'id', 'login',\n",
       "       'name', 'organizations_url', 'received_events_url', 'repos_url',\n",
       "       'site_admin', 'starred_url', 'subscriptions_url', 'type', 'url'],\n",
       "      dtype='object')"
      ]
     },
     "execution_count": 257,
     "metadata": {},
     "output_type": "execute_result"
    }
   ],
   "source": [
    "data.columns\n",
    "    "
   ]
  },
  {
   "cell_type": "code",
   "execution_count": 272,
   "metadata": {},
   "outputs": [],
   "source": [
    "s1 = data.login.isin(data_caffe2.name)&data_caffe2.login.isin(data.name)"
   ]
  },
  {
   "cell_type": "code",
   "execution_count": 298,
   "metadata": {},
   "outputs": [],
   "source": [
    "data_pytorch_anon = data_pytorch[data_pytorch.type=='Anonymous']\n",
    "data_pytorch_user = data_pytorch[data_pytorch.type!='Anonymous']\n",
    "data_theano_anon = data_theano[data_theano.type=='Anonymous']\n",
    "data_theano_user = data_theano[data_theano.type!='Anonymous']\n",
    "data_keras_anon = data_keras[data_keras.type=='Anonymous']\n",
    "data_keras_user = data_keras[data_keras.type!='Anonymous']"
   ]
  },
  {
   "cell_type": "code",
   "execution_count": 278,
   "metadata": {},
   "outputs": [],
   "source": [
    "idd=data['name']=data_caffe2['name']"
   ]
  },
  {
   "cell_type": "code",
   "execution_count": 282,
   "metadata": {},
   "outputs": [],
   "source": [
    "data_tensorflow_anon = data[data['type']=='Anonymous']\n",
    "data_tensorflow_user = data[data['type']!='User']\n",
    "data_caffe2_anon = data_caffe2[data_caffe2['type']=='Anonymous']\n",
    "data_caffe2_user = data_caffe2[data_caffe2['type']!='Anonymous']"
   ]
  },
  {
   "cell_type": "code",
   "execution_count": 283,
   "metadata": {},
   "outputs": [
    {
     "data": {
      "text/html": [
       "<div>\n",
       "<style>\n",
       "    .dataframe thead tr:only-child th {\n",
       "        text-align: right;\n",
       "    }\n",
       "\n",
       "    .dataframe thead th {\n",
       "        text-align: left;\n",
       "    }\n",
       "\n",
       "    .dataframe tbody tr th {\n",
       "        vertical-align: top;\n",
       "    }\n",
       "</style>\n",
       "<table border=\"1\" class=\"dataframe\">\n",
       "  <thead>\n",
       "    <tr style=\"text-align: right;\">\n",
       "      <th></th>\n",
       "      <th>avatar_url_x</th>\n",
       "      <th>contributions_x</th>\n",
       "      <th>email_x</th>\n",
       "      <th>events_url_x</th>\n",
       "      <th>followers_url_x</th>\n",
       "      <th>following_url_x</th>\n",
       "      <th>gists_url_x</th>\n",
       "      <th>gravatar_id_x</th>\n",
       "      <th>html_url_x</th>\n",
       "      <th>id_x</th>\n",
       "      <th>login</th>\n",
       "      <th>name_x</th>\n",
       "      <th>organizations_url_x</th>\n",
       "      <th>received_events_url_x</th>\n",
       "      <th>repos_url_x</th>\n",
       "      <th>site_admin_x</th>\n",
       "      <th>starred_url_x</th>\n",
       "      <th>subscriptions_url_x</th>\n",
       "      <th>type_x</th>\n",
       "      <th>url_x</th>\n",
       "      <th>avatar_url_y</th>\n",
       "      <th>contributions_y</th>\n",
       "      <th>email_y</th>\n",
       "      <th>events_url_y</th>\n",
       "      <th>followers_url_y</th>\n",
       "      <th>following_url_y</th>\n",
       "      <th>gists_url_y</th>\n",
       "      <th>gravatar_id_y</th>\n",
       "      <th>html_url_y</th>\n",
       "      <th>id_y</th>\n",
       "      <th>name_y</th>\n",
       "      <th>organizations_url_y</th>\n",
       "      <th>received_events_url_y</th>\n",
       "      <th>repos_url_y</th>\n",
       "      <th>site_admin_y</th>\n",
       "      <th>starred_url_y</th>\n",
       "      <th>subscriptions_url_y</th>\n",
       "      <th>type_y</th>\n",
       "      <th>url_y</th>\n",
       "    </tr>\n",
       "  </thead>\n",
       "  <tbody>\n",
       "  </tbody>\n",
       "</table>\n",
       "</div>"
      ],
      "text/plain": [
       "Empty DataFrame\n",
       "Columns: [avatar_url_x, contributions_x, email_x, events_url_x, followers_url_x, following_url_x, gists_url_x, gravatar_id_x, html_url_x, id_x, login, name_x, organizations_url_x, received_events_url_x, repos_url_x, site_admin_x, starred_url_x, subscriptions_url_x, type_x, url_x, avatar_url_y, contributions_y, email_y, events_url_y, followers_url_y, following_url_y, gists_url_y, gravatar_id_y, html_url_y, id_y, name_y, organizations_url_y, received_events_url_y, repos_url_y, site_admin_y, starred_url_y, subscriptions_url_y, type_y, url_y]\n",
       "Index: []"
      ]
     },
     "execution_count": 283,
     "metadata": {},
     "output_type": "execute_result"
    }
   ],
   "source": [
    "data_tensorflow_user.merge(data_caffe2_user, on='login')"
   ]
  },
  {
   "cell_type": "code",
   "execution_count": 284,
   "metadata": {},
   "outputs": [
    {
     "data": {
      "text/html": [
       "<div>\n",
       "<style>\n",
       "    .dataframe thead tr:only-child th {\n",
       "        text-align: right;\n",
       "    }\n",
       "\n",
       "    .dataframe thead th {\n",
       "        text-align: left;\n",
       "    }\n",
       "\n",
       "    .dataframe tbody tr th {\n",
       "        vertical-align: top;\n",
       "    }\n",
       "</style>\n",
       "<table border=\"1\" class=\"dataframe\">\n",
       "  <thead>\n",
       "    <tr style=\"text-align: right;\">\n",
       "      <th></th>\n",
       "      <th>avatar_url_x</th>\n",
       "      <th>contributions_x</th>\n",
       "      <th>email</th>\n",
       "      <th>events_url_x</th>\n",
       "      <th>followers_url_x</th>\n",
       "      <th>following_url_x</th>\n",
       "      <th>gists_url_x</th>\n",
       "      <th>gravatar_id_x</th>\n",
       "      <th>html_url_x</th>\n",
       "      <th>id_x</th>\n",
       "      <th>login_x</th>\n",
       "      <th>name_x</th>\n",
       "      <th>organizations_url_x</th>\n",
       "      <th>received_events_url_x</th>\n",
       "      <th>repos_url_x</th>\n",
       "      <th>site_admin_x</th>\n",
       "      <th>starred_url_x</th>\n",
       "      <th>subscriptions_url_x</th>\n",
       "      <th>type_x</th>\n",
       "      <th>url_x</th>\n",
       "      <th>avatar_url_y</th>\n",
       "      <th>contributions_y</th>\n",
       "      <th>events_url_y</th>\n",
       "      <th>followers_url_y</th>\n",
       "      <th>following_url_y</th>\n",
       "      <th>gists_url_y</th>\n",
       "      <th>gravatar_id_y</th>\n",
       "      <th>html_url_y</th>\n",
       "      <th>id_y</th>\n",
       "      <th>login_y</th>\n",
       "      <th>name_y</th>\n",
       "      <th>organizations_url_y</th>\n",
       "      <th>received_events_url_y</th>\n",
       "      <th>repos_url_y</th>\n",
       "      <th>site_admin_y</th>\n",
       "      <th>starred_url_y</th>\n",
       "      <th>subscriptions_url_y</th>\n",
       "      <th>type_y</th>\n",
       "      <th>url_y</th>\n",
       "    </tr>\n",
       "  </thead>\n",
       "  <tbody>\n",
       "  </tbody>\n",
       "</table>\n",
       "</div>"
      ],
      "text/plain": [
       "Empty DataFrame\n",
       "Columns: [avatar_url_x, contributions_x, email, events_url_x, followers_url_x, following_url_x, gists_url_x, gravatar_id_x, html_url_x, id_x, login_x, name_x, organizations_url_x, received_events_url_x, repos_url_x, site_admin_x, starred_url_x, subscriptions_url_x, type_x, url_x, avatar_url_y, contributions_y, events_url_y, followers_url_y, following_url_y, gists_url_y, gravatar_id_y, html_url_y, id_y, login_y, name_y, organizations_url_y, received_events_url_y, repos_url_y, site_admin_y, starred_url_y, subscriptions_url_y, type_y, url_y]\n",
       "Index: []"
      ]
     },
     "execution_count": 284,
     "metadata": {},
     "output_type": "execute_result"
    }
   ],
   "source": [
    "data_tensorflow_anon.merge(data_caffe2_anon, on='email')"
   ]
  },
  {
   "cell_type": "code",
   "execution_count": 371,
   "metadata": {
    "scrolled": false
   },
   "outputs": [],
   "source": [
    "f = open('file.txt','r')"
   ]
  },
  {
   "cell_type": "code",
   "execution_count": 363,
   "metadata": {},
   "outputs": [],
   "source": [
    "data_tensorflow = pd.read_json('../../../Desktop/tensorflow.json')"
   ]
  },
  {
   "cell_type": "code",
   "execution_count": 435,
   "metadata": {},
   "outputs": [],
   "source": [
    "def get_forks_github(orgname, repo):\n",
    "    num = 0\n",
    "    forks = pd.DataFrame()\n",
    "    while True:\n",
    "        url = 'https://api.github.com/repos/'+orgname+'/'+repo+'/forks?page='+str(num)\n",
    "        res = requests.get(url, auth = ('tanay27','112Shiv_sn')).content\n",
    "        if len(pd.read_json(res))>0:\n",
    "            dummy_df=pd.read_json(res)\n",
    "            forks = forks.append(dummy_df)\n",
    "            num+=1\n",
    "        else:\n",
    "            break\n",
    "    print('done ok!')\n",
    "    return forks\n",
    "        "
   ]
  },
  {
   "cell_type": "code",
   "execution_count": 436,
   "metadata": {},
   "outputs": [
    {
     "name": "stdout",
     "output_type": "stream",
     "text": [
      "done ok!\n"
     ]
    }
   ],
   "source": [
    "forks_tensorflow = get_forks_github(orgname='tensorflow', repo='tensorflow')"
   ]
  },
  {
   "cell_type": "code",
   "execution_count": null,
   "metadata": {},
   "outputs": [],
   "source": [
    "forks_tensorflow = forks_tensorflow.reset_index(drop=True)\n",
    "forks_tensorflow.to_json('forks_tensorflow.json')"
   ]
  },
  {
   "cell_type": "code",
   "execution_count": null,
   "metadata": {},
   "outputs": [],
   "source": []
  },
  {
   "cell_type": "code",
   "execution_count": null,
   "metadata": {},
   "outputs": [],
   "source": []
  },
  {
   "cell_type": "code",
   "execution_count": null,
   "metadata": {
    "scrolled": false
   },
   "outputs": [],
   "source": []
  },
  {
   "cell_type": "code",
   "execution_count": null,
   "metadata": {},
   "outputs": [],
   "source": []
  },
  {
   "cell_type": "code",
   "execution_count": null,
   "metadata": {},
   "outputs": [],
   "source": [
    "\n"
   ]
  },
  {
   "cell_type": "code",
   "execution_count": null,
   "metadata": {},
   "outputs": [],
   "source": []
  },
  {
   "cell_type": "code",
   "execution_count": null,
   "metadata": {},
   "outputs": [],
   "source": []
  },
  {
   "cell_type": "code",
   "execution_count": null,
   "metadata": {},
   "outputs": [],
   "source": []
  }
 ],
 "metadata": {
  "kernelspec": {
   "display_name": "Python 3",
   "language": "python",
   "name": "python3"
  },
  "language_info": {
   "codemirror_mode": {
    "name": "ipython",
    "version": 3
   },
   "file_extension": ".py",
   "mimetype": "text/x-python",
   "name": "python",
   "nbconvert_exporter": "python",
   "pygments_lexer": "ipython3",
   "version": "3.6.4"
  }
 },
 "nbformat": 4,
 "nbformat_minor": 2
}
